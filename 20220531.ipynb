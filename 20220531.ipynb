{
  "nbformat": 4,
  "nbformat_minor": 0,
  "metadata": {
    "colab": {
      "name": "20220531.ipynb",
      "provenance": [],
      "collapsed_sections": [],
      "mount_file_id": "1M3zKPkA9h2wa-nB5jrgH0FWBHCq1DcUX",
      "authorship_tag": "ABX9TyOHuipAnCQ/zMcZXyduYN8N",
      "include_colab_link": true
    },
    "kernelspec": {
      "name": "python3",
      "display_name": "Python 3"
    },
    "language_info": {
      "name": "python"
    },
    "accelerator": "GPU"
  },
  "cells": [
    {
      "cell_type": "markdown",
      "metadata": {
        "id": "view-in-github",
        "colab_type": "text"
      },
      "source": [
        "<a href=\"https://colab.research.google.com/github/iiyama-lab/semi_tutorial/blob/main/20220531.ipynb\" target=\"_parent\"><img src=\"https://colab.research.google.com/assets/colab-badge.svg\" alt=\"Open In Colab\"/></a>"
      ]
    },
    {
      "cell_type": "markdown",
      "source": [
        "# 1. コードの準備\n",
        "ドライブをマウントします"
      ],
      "metadata": {
        "id": "LgssmhoZnzaN"
      }
    },
    {
      "cell_type": "code",
      "source": [
        "%load_ext autoreload\n",
        "from google.colab import drive\n",
        "drive.mount(\"/content/drive\")"
      ],
      "metadata": {
        "id": "_RIuQ94MnWzt"
      },
      "execution_count": null,
      "outputs": []
    },
    {
      "cell_type": "markdown",
      "source": [
        "# 2. コードのクローン\n",
        "https://github.com/iiyama-lab/semi_tutorial からコードをダウンロードしてきます。\n",
        "\n",
        "/content/drive/MyDrive/ の直下に置きます。それ以外の場所にしたい場合はコードを変更してください。\n",
        "\n",
        "\n",
        "一度実行しておけばOKです。\n",
        "ダウンロードしてきたコードを変更した場合は実行しないでください。"
      ],
      "metadata": {
        "id": "eO1cKSb1n_6z"
      }
    },
    {
      "cell_type": "code",
      "execution_count": null,
      "metadata": {
        "id": "tuF40_XyRJVN"
      },
      "outputs": [],
      "source": [
        "%cd /content/drive/MyDrive/\n",
        "!git clone https://github.com/iiyama-lab/semi_tutorial.git"
      ]
    },
    {
      "cell_type": "markdown",
      "source": [
        "# 2-1. すでにコードがダウンロードされている場合\n",
        "必要であれば、以下のコードで最新のものをダウンロードしてきます"
      ],
      "metadata": {
        "id": "QtvBVyE1qRNH"
      }
    },
    {
      "cell_type": "code",
      "source": [
        "%cd /content/drive/MyDrive/semi_tutorial\n",
        "!git pull"
      ],
      "metadata": {
        "id": "B0OYeNinqVQf"
      },
      "execution_count": null,
      "outputs": []
    },
    {
      "cell_type": "markdown",
      "source": [
        "# 3. 作業ディレクトリの移動"
      ],
      "metadata": {
        "id": "Z09ULq8Ao7Xu"
      }
    },
    {
      "cell_type": "code",
      "source": [
        "%cd /content/drive/MyDrive/semi_tutorial/gan"
      ],
      "metadata": {
        "id": "Hc3I7mOLRQ34"
      },
      "execution_count": null,
      "outputs": []
    },
    {
      "cell_type": "markdown",
      "source": [
        "# 4. いろいろインポート"
      ],
      "metadata": {
        "id": "2A6sNYxDpc7a"
      }
    },
    {
      "cell_type": "code",
      "source": [
        "%autoreload\n",
        "from tqdm.notebook import tqdm\n",
        "import torch\n",
        "from train_gan import Train_model\n",
        "from dataloader import GANImageDataset, ImageTransform, show_images\n",
        "from model import Generator, Discriminator"
      ],
      "metadata": {
        "id": "omtpDcoCRZo_"
      },
      "execution_count": null,
      "outputs": []
    },
    {
      "cell_type": "markdown",
      "source": [
        "# 5. 学習はこちら\n",
        "データの場所とか、エポック数とか学習率とかはここで指定してください。"
      ],
      "metadata": {
        "id": "RzgkgbGrSgfm"
      }
    },
    {
      "cell_type": "code",
      "source": [
        "batch_size = 64\n",
        "z_dim = 100\n",
        "setting = {\"g_lr\": 1.0e-4, \"d_lr\": 5.0e-4, \"beta1\": 0.5, \"beta2\": 0.999}\n",
        "\n",
        "device = \"cuda:0\" if torch.cuda.is_available() else \"cpu\"\n",
        "print (device)\n",
        "\n",
        "datadir = \"/content/drive/MyDrive/iiyama-lab2022/data/face/train\"\n",
        "dataset = GANImageDataset(datadir, transform=ImageTransform())\n",
        "dataloader = torch.utils.data.DataLoader(\n",
        "dataset, batch_size=batch_size, shuffle=True, num_workers=2)\n",
        "\n",
        "G = Generator(z_dim=z_dim)\n",
        "D = Discriminator()\n",
        "\n",
        "trainer = Train_model(device)\n",
        "trainer.initialize(G, D, z_dim, setting)\n",
        "trainer.train(dataloader, num_epochs=200)"
      ],
      "metadata": {
        "id": "nhH5iNXhRngn"
      },
      "execution_count": null,
      "outputs": []
    },
    {
      "cell_type": "code",
      "source": [
        ""
      ],
      "metadata": {
        "id": "6s-UHnRoS8xv"
      },
      "execution_count": null,
      "outputs": []
    }
  ]
}