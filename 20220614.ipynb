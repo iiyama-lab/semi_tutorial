{
 "cells": [
  {
   "cell_type": "markdown",
   "metadata": {},
   "source": [
    "<a href=\"https://colab.research.google.com/github/iiyama-lab/semi_tutorial/blob/main/20220614.ipynb\" target=\"_parent\"><img src=\"https://colab.research.google.com/assets/colab-badge.svg\" alt=\"Open In Colab\"/></a>\n",
    "\n",
    "# U-Net"
   ]
  },
  {
   "cell_type": "markdown",
   "metadata": {},
   "source": [
    "# 0.　ドライブのマウント"
   ]
  },
  {
   "cell_type": "code",
   "execution_count": null,
   "metadata": {},
   "outputs": [],
   "source": [
    "from google.colab import drive\n",
    "drive.mount(\"/content/drive\")\n",
    "!pwd\n",
    "\n",
    "datadir = \"/content/drive/MyDrive/iiyama-lab2022/data/face/train\"\n",
    "val_datadir = \"/content/drive/MyDrive/iiyama-lab2022/data/face/test\"\n",
    "#datadir = \"/root/data/share/face/train\"\n",
    "#val_datadir = \"/root/data/share/face/test\""
   ]
  },
  {
   "cell_type": "markdown",
   "metadata": {},
   "source": [
    "# 1. いろいろインポート"
   ]
  },
  {
   "cell_type": "code",
   "execution_count": null,
   "metadata": {},
   "outputs": [],
   "source": [
    "from tqdm.notebook import tqdm\n",
    "import torch\n",
    "import torch.nn as nn\n",
    "from torch.utils.data import Dataset\n",
    "from torchvision.io import read_image, ImageReadMode\n",
    "from torchvision import transforms\n",
    "import os\n",
    "import glob\n",
    "\n",
    "import matplotlib.pyplot as plt\n",
    "import numpy as np\n"
   ]
  },
  {
   "cell_type": "markdown",
   "metadata": {},
   "source": [
    "# 2. データローダの作成"
   ]
  },
  {
   "cell_type": "code",
   "execution_count": null,
   "metadata": {},
   "outputs": [],
   "source": [
    "class ColorizationImageDataset(Dataset):\n",
    "    \"\"\"カラー化用のImageDataset\n",
    "\n",
    "    Attributes:\n",
    "        filenames (list): 画像(PNG画像)のファイル名リスト\n",
    "        transform_rgb & transform_gray (obj): 画像変換用の関数\n",
    "    \"\"\"\n",
    "\n",
    "    def __init__(self, img_dir, transform_rgb, transform_gray):\n",
    "        \"\"\"\n",
    "        Args:\n",
    "            img_dir: 画像が置いてあるディレクトリ名\n",
    "            transform_rgb & transform_gray: 画像変換用の関数\n",
    "        \"\"\"\n",
    "        self.transform_rgb = transform_rgb\n",
    "        self.transform_gray = transform_gray\n",
    "        self.filenames = glob.glob(os.path.join(img_dir, \"*/*.png\"))\n",
    "        print(f\"{self.__len__()} images for training\")\n",
    "\n",
    "    def __len__(self):\n",
    "        return len(self.filenames)\n",
    "\n",
    "    def __getitem__(self, idx):\n",
    "        img_path = self.filenames[idx]\n",
    "        image = read_image(img_path, mode=ImageReadMode.RGB)\n",
    "        image = self.transform_rgb(image)        \n",
    "        gray_image = read_image(img_path, mode=ImageReadMode.GRAY) \n",
    "        gray_image = self.transform_gray(gray_image)\n",
    "        return gray_image, image"
   ]
  },
  {
   "cell_type": "code",
   "execution_count": null,
   "metadata": {},
   "outputs": [],
   "source": [
    "class ImageTransform():\n",
    "    def __init__(self,  mean=[0.5, 0.5, 0.5], std=[0.5, 0.5, 0.5]):\n",
    "        self.data_transform = transforms.Compose([\n",
    "            transforms.ToPILImage(),\n",
    "            transforms.Resize(256),\n",
    "            transforms.CenterCrop(256),\n",
    "            transforms.ToTensor(),\n",
    "            transforms.Normalize(mean, std)\n",
    "        ])\n",
    "\n",
    "    def __call__(self, img):\n",
    "        return self.data_transform(img)\n",
    "\n",
    "def tensor2RGBimage(image,  mean=[0.5, 0.5, 0.5], std=[0.5, 0.5, 0.5]):\n",
    "    \"\"\"\n",
    "    Args:\n",
    "        image: pytorch Tensor\n",
    "    \"\"\"\n",
    "    inp = image.numpy().transpose((1, 2, 0))\n",
    "    mean = np.array(mean)\n",
    "    std = np.array(std)\n",
    "    inp = std * inp + mean\n",
    "    inp = np.clip(inp, 0, 1)\n",
    "    return inp"
   ]
  },
  {
   "cell_type": "markdown",
   "metadata": {},
   "source": [
    "## 2.1 データローダテスト"
   ]
  },
  {
   "cell_type": "code",
   "execution_count": null,
   "metadata": {},
   "outputs": [],
   "source": [
    "import matplotlib.pyplot as plt\n",
    "from pylab import cm\n",
    "dataset = ColorizationImageDataset(datadir, transform_rgb=ImageTransform(), transform_gray=ImageTransform(mean=0.5, std=0.5))\n",
    "dataloader = torch.utils.data.DataLoader(\n",
    "    dataset, batch_size=10, shuffle=True\n",
    ")\n",
    "gray_images, rgb_images = next(iter(dataloader))\n",
    "\n",
    "fig, axes = plt.subplots(1, 2)\n",
    "axes[0].imshow(gray_images[0,0], cmap=cm.gray)\n",
    "axes[1].imshow(tensor2RGBimage(rgb_images[0]))\n",
    "plt.show()"
   ]
  },
  {
   "cell_type": "markdown",
   "metadata": {},
   "source": [
    "# 3. モデルの作成\n",
    "\n",
    "U-Netの元の論文の構造です\n",
    "![model](https://lmb.informatik.uni-freiburg.de/people/ronneber/u-net/u-net-architecture.png)\n",
    "\n",
    "- paddingを行ってないので3x3の畳み込みを行う度に画像サイズが2ずつ小さくなってます。\n",
    "- このままでもいいのですが、今回は（面倒なので）paddingを行って画像サイズが変わらないようにします\n",
    "- 今回はカラー化なので出力は（２チャンネルではなく）3チャンネルです"
   ]
  },
  {
   "cell_type": "markdown",
   "metadata": {},
   "source": [
    "## 3.1 部品をひとつずつ作っていきましょう"
   ]
  },
  {
   "cell_type": "code",
   "execution_count": null,
   "metadata": {},
   "outputs": [],
   "source": [
    "class Conv2d_twice(nn.Module):\n",
    "    \"\"\"\n",
    "    3x3の畳み込みを2回行う層です。\n",
    "    in_channels : 入力チャンネル\n",
    "    mid_channels : 1回目の畳み込みの出力チャンネル\n",
    "    out_channels : 出力チャンネル\n",
    "    \"\"\"\n",
    "    def __init__(self, in_channels, mid_channels, out_channels):\n",
    "        super().__init__()\n",
    "        self.layer = nn.Sequential(\n",
    "            nn.Conv2d(in_channels, mid_channels, kernel_size=3, padding=1),\n",
    "            nn.BatchNorm2d(mid_channels),\n",
    "            nn.ReLU(inplace=True),\n",
    "            nn.Conv2d(mid_channels, out_channels, kernel_size=3, padding=1),\n",
    "            nn.BatchNorm2d(out_channels),\n",
    "            nn.ReLU(inplace=True)\n",
    "        )\n",
    "    \n",
    "    def forward(self, x):\n",
    "        return self.layer(x)"
   ]
  },
  {
   "cell_type": "code",
   "execution_count": null,
   "metadata": {},
   "outputs": [],
   "source": [
    "class EncoderParts(nn.Module):\n",
    "    \"\"\"\n",
    "    U-Netのパーツ\n",
    "    Max Poolingで画像サイズを半分にしてから、\n",
    "    上のConv2d_twiceを実行する\n",
    "    \"\"\"\n",
    "    def __init__(self, in_channels, mid_channels, out_channels):\n",
    "        super().__init__()\n",
    "        self.layer = nn.Sequential(\n",
    "            nn.MaxPool2d(kernel_size=2),\n",
    "            Conv2d_twice(in_channels, mid_channels, out_channels)\n",
    "        )\n",
    "    \n",
    "    def forward(self, x):\n",
    "        return self.layer(x)\n",
    "\n",
    "\n",
    "class DecoderParts(nn.Module):\n",
    "    \"\"\"\n",
    "    U-Netのパーツ\n",
    "    ひとつ前のDecoderからの出力を Upsample (ConvTranspose2dでもいいのかも)\n",
    "    その結果をEncoderからの出力と結合してから Conv2d_twice\n",
    "    \"\"\"\n",
    "    def __init__(self, in_channels, mid_channels, out_channels):\n",
    "        super().__init__()\n",
    "        self.upsample = nn.Upsample(scale_factor=2)\n",
    "        self.conv = Conv2d_twice(in_channels*2, mid_channels, out_channels)\n",
    "\n",
    "    def forward(self, x_dec, x_enc):\n",
    "        out = self.upsample(x_dec)\n",
    "        out = torch.cat([x_enc, out], dim=1)\n",
    "        return self.conv(out)\n"
   ]
  },
  {
   "cell_type": "code",
   "execution_count": null,
   "metadata": {},
   "outputs": [],
   "source": [
    "class UNet(nn.Module):\n",
    "    \"\"\"\n",
    "    U-Net\n",
    "    \"\"\"\n",
    "    def __init__(self):\n",
    "        super().__init__()\n",
    "        self.encoder1 = Conv2d_twice(1, 64, 64) # 1x256x256 --> 64x256x256\n",
    "        self.encoder2 = EncoderParts(64, 128, 128) # 64x256x256 --> 128x128x128\n",
    "        self.encoder3 = EncoderParts(128, 256, 256) # 128x128x128 --> 256x64x64\n",
    "        self.encoder4 = EncoderParts(256, 512, 512) # 256x64x64 --> 512x32x32\n",
    "        self.bottle_neck = EncoderParts(512, 1024, 512) # 512x32x32 --> 512x16x16\n",
    "        self.decoder1 = DecoderParts(512, 512, 256) # 512x16x16 & 512x32x32 --> 256x32x32\n",
    "        self.decoder2 = DecoderParts(256, 256, 128) # 256x32x32 & 256x64x64 --> 128x64x64\n",
    "        self.decoder3 = DecoderParts(128, 128, 64) # 128x64x64 & 128x128x128 --> 64x128x128\n",
    "        self.decoder4 = DecoderParts(64, 64, 64) # 64x128x128 & 64x256x256 --> 64x256x256\n",
    "        self.last = nn.Sequential(\n",
    "            nn.Conv2d(in_channels=64, out_channels=3, kernel_size=1)\n",
    "        )\n",
    "    \n",
    "    def forward(self, x):\n",
    "        out1 = self.encoder1(x)\n",
    "        out2 = self.encoder2(out1)\n",
    "        out3 = self.encoder3(out2)\n",
    "        out4 = self.encoder4(out3)\n",
    "        out = self.bottle_neck(out4)\n",
    "        out = self.decoder1(out, out4)\n",
    "        out = self.decoder2(out, out3)\n",
    "        out = self.decoder3(out, out2)\n",
    "        out = self.decoder4(out, out1)\n",
    "        out = self.last(out)\n",
    "        return out\n"
   ]
  },
  {
   "cell_type": "markdown",
   "metadata": {},
   "source": [
    "## 3.2 試しに動かしてみましょう"
   ]
  },
  {
   "cell_type": "code",
   "execution_count": null,
   "metadata": {},
   "outputs": [],
   "source": [
    "model = UNet()\n",
    "out = model(gray_images)\n",
    "out = out.detach()\n",
    "\n",
    "fig, axes = plt.subplots(1, 3)\n",
    "axes[0].imshow(gray_images[0,0], cmap=cm.gray)\n",
    "axes[1].imshow(tensor2RGBimage(rgb_images[0]))\n",
    "axes[2].imshow(tensor2RGBimage(out[0]))\n",
    "plt.show()"
   ]
  },
  {
   "cell_type": "markdown",
   "metadata": {},
   "source": [
    "# 4.訓練してみましょう"
   ]
  },
  {
   "cell_type": "markdown",
   "metadata": {},
   "source": [
    "## 4.1 まずはDataLoaderの設定"
   ]
  },
  {
   "cell_type": "code",
   "execution_count": null,
   "metadata": {},
   "outputs": [],
   "source": [
    "device = \"cuda:0\" if torch.cuda.is_available() else \"cpu\"\n",
    "batch_size = 4\n",
    "\n",
    "dataset = ColorizationImageDataset(datadir, transform_rgb=ImageTransform(), transform_gray=ImageTransform(mean=0.5, std=0.5))\n",
    "dataloader = torch.utils.data.DataLoader(\n",
    "    dataset, batch_size=batch_size, shuffle=True, num_workers=2\n",
    ")\n",
    "val_dataset = ColorizationImageDataset(val_datadir, transform_rgb=ImageTransform(), transform_gray=ImageTransform(mean=0.5, std=0.5))\n",
    "val_dataloader = torch.utils.data.DataLoader(\n",
    "    val_dataset, batch_size=batch_size*2, shuffle=False,  num_workers=2\n",
    ")"
   ]
  },
  {
   "cell_type": "markdown",
   "metadata": {},
   "source": [
    "## 4.2 モデルとoptimizerと損失関数の準備\n",
    "今回はoptimizerにAdam、損失関数にL1損失を用います。"
   ]
  },
  {
   "cell_type": "code",
   "execution_count": null,
   "metadata": {},
   "outputs": [],
   "source": [
    "model = UNet()\n",
    "optimizer = torch.optim.Adam(model.parameters(), lr=1.0e-5, betas=[0.9, 0.999])\n",
    "\n",
    "criterion = nn.L1Loss()"
   ]
  },
  {
   "cell_type": "markdown",
   "metadata": {},
   "source": [
    "## 4.3 Train, Validation, あとはモデルの保存\n",
    "ちょっと長くなるので、訓練部分と検証部分、そしてモデルの保存部分を別々の関数にしておきます"
   ]
  },
  {
   "cell_type": "code",
   "execution_count": null,
   "metadata": {},
   "outputs": [],
   "source": [
    "def train(dataloader):\n",
    "    \"\"\"\n",
    "    1エポック分の学習\n",
    "    \"\"\"\n",
    "    epoch_loss = 0\n",
    "    model.train()\n",
    "    \n",
    "    # プログレスバー。不要ならコメントアウトしといてください\n",
    "    pbar = tqdm(total=len(dataloader.dataset), leave=False)\n",
    "\n",
    "    for i, (gray_images, rgb_images) in enumerate(dataloader):\n",
    "        _batch_size = len(gray_images)\n",
    "        gray_images = gray_images.to(device)\n",
    "        rgb_images = rgb_images.to(device)\n",
    "\n",
    "        out = model(gray_images)\n",
    "        loss = criterion(out, rgb_images)\n",
    "        loss.backward()\n",
    "        optimizer.step()\n",
    "\n",
    "        epoch_loss += loss.item()\n",
    "\n",
    "        # プログレスバー関係の記述。不要なら下2行はコメントアウト\n",
    "        pbar.set_postfix({\"train loss:\": epoch_loss / (i+1)})\n",
    "        pbar.update(batch_size)\n",
    "    \n",
    "    epoch_loss = epoch_loss / (i+1)\n",
    "\n",
    "    return epoch_loss\n"
   ]
  },
  {
   "cell_type": "code",
   "execution_count": null,
   "metadata": {},
   "outputs": [],
   "source": [
    "def validation(dataloader):\n",
    "    \"\"\"\n",
    "    検証部分。中身はほぼtrainと同じ\n",
    "    \"\"\"\n",
    "    val_loss = 0\n",
    "    model.eval()\n",
    "    \n",
    "    # プログレスバー。不要ならコメントアウトしといてください\n",
    "    pbar = tqdm(total=len(dataloader.dataset), leave=False)\n",
    "\n",
    "    for i, (gray_images, rgb_images) in enumerate(dataloader):\n",
    "        _batch_size = len(gray_images)\n",
    "        gray_images = gray_images.to(device)\n",
    "        rgb_images = rgb_images.to(device)\n",
    "\n",
    "        out = model(gray_images)\n",
    "        loss = criterion(out, rgb_images)\n",
    "\n",
    "        val_loss += loss.item()\n",
    "\n",
    "        # プログレスバー関係の記述。不要なら下2行はコメントアウト\n",
    "        pbar.set_postfix({\"val loss:\": val_loss / (i+1)})\n",
    "        pbar.update(_batch_size)\n",
    "    \n",
    "    val_loss = val_loss / (i+1)\n",
    "    \n",
    "    return val_loss"
   ]
  },
  {
   "cell_type": "code",
   "execution_count": null,
   "metadata": {},
   "outputs": [],
   "source": [
    "def save_checkpoint(filename, epoch, train_loss=None, val_loss=None):\n",
    "    \"\"\"\n",
    "    https://pytorch.org/tutorials/recipes/recipes/saving_and_loading_a_general_checkpoint.html\n",
    "    \"\"\"\n",
    "    torch.save({\n",
    "        'epoch': epoch,\n",
    "        'model_state_dict': model.state_dict(),\n",
    "        'optimizer_state_dict': optimizer.state_dict(),\n",
    "        'train_loss': train_loss,\n",
    "        'val_loss': val_loss\n",
    "    }, filename)\n",
    "\n",
    "def load_checkpoint(filename) :\n",
    "    checkpoint = torch.load(filename)\n",
    "    model.load_state_dict(checkpoint['model_state_dict'])\n",
    "    optimizer.load_state_dict(checkpoint['optimizer_state_dict'])\n",
    "    epoch = checkpoint['epoch']\n",
    "    train_loss = checkpoint['train_loss']\n",
    "    val_loss = checkpoint['val_loss']\n",
    "\n",
    "    return epoch, train_loss, val_loss\n"
   ]
  },
  {
   "cell_type": "markdown",
   "metadata": {},
   "source": [
    "## 4.4 学習のメイン部分"
   ]
  },
  {
   "cell_type": "code",
   "execution_count": null,
   "metadata": {},
   "outputs": [],
   "source": [
    "model.to(device)\n",
    "torch.backends.cudnn.benchmark = True\n",
    "\n",
    "num_epoches = 100\n",
    "best_val_loss = None\n",
    "\n",
    "for epoch in range(num_epoches):\n",
    "    train_loss = train(dataloader)\n",
    "    val_loss = validation(val_dataloader)\n",
    "    print(f\"epoch={epoch} train L1Loss={train_loss}, val L1Loss={val_loss}\")\n",
    "\n",
    "    # 現時点で最善のやつを保存する\n",
    "    if best_val_loss is None or best_val_loss > val_loss:\n",
    "        best_val_loss = val_loss\n",
    "        filename = \"best.checkpoint\"\n",
    "        save_checkpoint(filename, epoch, train_loss, val_loss)\n",
    "    \n",
    "    # それとは別に10エポックごとに保存する\n",
    "    if epoch % 10 == 0:\n",
    "        filename = f\"save{epoch:04d}.checkpoint\"\n",
    "        save_checkpoint(filename, epoch, train_loss, val_loss)\n",
    "\n",
    "print(f\"Done. best val loss={best_val_loss}\")"
   ]
  },
  {
   "cell_type": "markdown",
   "metadata": {},
   "source": [
    "# 5. テストしましょう"
   ]
  },
  {
   "cell_type": "markdown",
   "metadata": {},
   "source": [
    "## 5.1 Validationデータ"
   ]
  },
  {
   "cell_type": "code",
   "execution_count": null,
   "metadata": {},
   "outputs": [],
   "source": [
    "gray_images, rgb_images = next(iter(val_dataloader))\n",
    "\n",
    "idx = 1\n",
    "fig, axes = plt.subplots(1, 3)\n",
    "axes[0].imshow(gray_images[idx,0], cmap=cm.gray)\n",
    "axes[1].imshow(tensor2RGBimage(rgb_images[idx]))\n",
    "\n",
    "model.to(device)\n",
    "model.eval()\n",
    "gray_images = gray_images.to(device)\n",
    "rgb_images = rgb_images.to(device)\n",
    "out = model(gray_images)\n",
    "loss = criterion(out[idx], rgb_images[idx]).to('cpu').detach().item()\n",
    "out = out.to('cpu')\n",
    "out = out.detach()\n",
    "axes[2].imshow(tensor2RGBimage(out[idx]))\n",
    "plt.show()\n",
    "\n",
    "print(loss)\n"
   ]
  },
  {
   "cell_type": "markdown",
   "metadata": {},
   "source": [
    "## 5.2 ネット上にある画像"
   ]
  },
  {
   "cell_type": "code",
   "execution_count": null,
   "metadata": {},
   "outputs": [],
   "source": [
    "#!curl https://researchmap.jp/masaakiiiyama/avatar.jpg -o sample.png\n",
    "!curl https://www.iiyama-lab.org/static/cf450c1cdd8f3a93e9ec1c816db1c39b/c58a3/MasaakiIiyama2020.jpg -o sample.jpg\n",
    "#!curl https://upload.wikimedia.org/wikipedia/commons/0/06/Shiga_University_Auditorium_%28Nationally_Registered_Tangible_Cultural_Property%29_at_Headquarter_in_Hikone_and_Headquarter_Building.jpg -o sample.jpg\n",
    "#!curl https://upload.wikimedia.org/wikipedia/commons/thumb/1/12/Shiga-Univ-Otsu-Entrance-2016081701.jpg/1280px-Shiga-Univ-Otsu-Entrance-2016081701.jpg -o sample.jpg\n",
    "filename = 'sample.jpg'\n",
    "#filename = \"/root/data/share/face/test/nonsmile/004000.png\"\n",
    "\n",
    "data_transform = ImageTransform(mean=0.5, std=0.5)\n",
    "gray_image = read_image(filename,mode=ImageReadMode.GRAY)\n",
    "gray_image = data_transform(gray_image)\n",
    "plt.imshow(gray_image[0], cmap=cm.gray)\n",
    "plt.colorbar()\n",
    "plt.show()\n",
    "gray_image = gray_image.reshape((1,1,256,256))\n",
    "gray_image = gray_image.to(device)\n",
    "model.to(device)\n",
    "model.eval()\n",
    "out = model(gray_image).to('cpu').detach()\n",
    "plt.imshow(tensor2RGBimage(out[0]))\n",
    "plt.show()\n"
   ]
  },
  {
   "cell_type": "markdown",
   "metadata": {},
   "source": [
    "# 6. 中断した学習を再開"
   ]
  },
  {
   "cell_type": "markdown",
   "metadata": {},
   "source": [
    "## 6.1 DataLoaderとモデルとoptimizerと損失関数を準備"
   ]
  },
  {
   "cell_type": "code",
   "execution_count": null,
   "metadata": {},
   "outputs": [],
   "source": [
    "device = \"cuda:0\" if torch.cuda.is_available() else \"cpu\"\n",
    "batch_size = 4\n",
    "\n",
    "dataset = ColorizationImageDataset(datadir, transform_rgb=ImageTransform(), transform_gray=ImageTransform(mean=0.5, std=0.5))\n",
    "dataloader = torch.utils.data.DataLoader(\n",
    "    dataset, batch_size=batch_size, shuffle=True, num_workers=2\n",
    ")\n",
    "val_dataset = ColorizationImageDataset(val_datadir, transform_rgb=ImageTransform(), transform_gray=ImageTransform(mean=0.5, std=0.5))\n",
    "val_dataloader = torch.utils.data.DataLoader(\n",
    "    val_dataset, batch_size=batch_size*2, shuffle=False,  num_workers=2\n",
    ")\n",
    "\n",
    "model = UNet()\n",
    "optimizer = torch.optim.Adam(model.parameters(), lr=1.0e-5, betas=[0.9, 0.999])\n",
    "\n",
    "criterion = nn.L1Loss()\n"
   ]
  },
  {
   "cell_type": "markdown",
   "metadata": {},
   "source": [
    "## 6.2 保存してたモデルを読みこむ"
   ]
  },
  {
   "cell_type": "code",
   "execution_count": null,
   "metadata": {},
   "outputs": [],
   "source": [
    "filename = \"best.checkpoint\"\n",
    "current_epoch, train_loss, val_loss = load_checkpoint(filename)"
   ]
  },
  {
   "cell_type": "markdown",
   "metadata": {},
   "source": [
    "## 6.3 学習を再開。基本は4.4と同じ"
   ]
  },
  {
   "cell_type": "code",
   "execution_count": null,
   "metadata": {},
   "outputs": [],
   "source": [
    "model.to(device)\n",
    "torch.backends.cudnn.benchmark = True\n",
    "\n",
    "num_epoches = 100\n",
    "best_val_loss = val_loss\n",
    "\n",
    "for epoch in range(current_epoch+1, num_epoches):\n",
    "    train_loss = train(dataloader)\n",
    "    val_loss = validation(val_dataloader)\n",
    "    print(f\"epoch={epoch} train L1Loss={train_loss}, val L1Loss={val_loss}\")\n",
    "\n",
    "    # 現時点で最善のやつを保存する\n",
    "    if best_val_loss is None or best_val_loss > val_loss:\n",
    "        best_val_loss = val_loss\n",
    "        filename = \"best.checkpoint\"\n",
    "        save_checkpoint(filename, epoch, train_loss, val_loss)\n",
    "    \n",
    "    # それとは別に10エポックごとに保存する\n",
    "    if epoch % 10 == 0:\n",
    "        filename = f\"save{epoch:04d}.checkpoint\"\n",
    "        save_checkpoint(filename, epoch, train_loss, val_loss)\n",
    "\n",
    "print(f\"Done. best val loss={best_val_loss}\")"
   ]
  }
 ],
 "metadata": {
  "interpreter": {
   "hash": "266e07f64aa3f1afd9991a0b824d04fa241a0ccb3b0a1eb69e96cbe416527717"
  },
  "kernelspec": {
   "display_name": "Python 3.9.7 ('myenv')",
   "language": "python",
   "name": "python3"
  },
  "language_info": {
   "codemirror_mode": {
    "name": "ipython",
    "version": 3
   },
   "file_extension": ".py",
   "mimetype": "text/x-python",
   "name": "python",
   "nbconvert_exporter": "python",
   "pygments_lexer": "ipython3",
   "version": "3.9.7"
  },
  "orig_nbformat": 4
 },
 "nbformat": 4,
 "nbformat_minor": 2
}
