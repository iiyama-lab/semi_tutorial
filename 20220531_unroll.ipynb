{
  "cells": [
    {
      "cell_type": "markdown",
      "metadata": {
        "colab_type": "text",
        "id": "view-in-github"
      },
      "source": [
        "<a href=\"https://colab.research.google.com/github/iiyama-lab/semi_tutorial/blob/main/20220531.ipynb\" target=\"_parent\"><img src=\"https://colab.research.google.com/assets/colab-badge.svg\" alt=\"Open In Colab\"/></a>"
      ]
    },
    {
      "cell_type": "markdown",
      "metadata": {},
      "source": [
        "# GANのコード（全部入り）\n",
        "「ドライブにコピー」してから使ってください"
      ]
    },
    {
      "cell_type": "markdown",
      "metadata": {
        "id": "LgssmhoZnzaN"
      },
      "source": [
        "# 0. ドライブのマウント\n",
        "ドライブをマウントします"
      ]
    },
    {
      "cell_type": "code",
      "execution_count": null,
      "metadata": {
        "id": "_RIuQ94MnWzt"
      },
      "outputs": [],
      "source": [
        "from google.colab import drive\n",
        "drive.mount(\"/content/drive\")"
      ]
    },
    {
      "cell_type": "markdown",
      "metadata": {
        "id": "2A6sNYxDpc7a"
      },
      "source": [
        "# 1. いろいろインポート"
      ]
    },
    {
      "cell_type": "code",
      "execution_count": null,
      "metadata": {
        "id": "omtpDcoCRZo_"
      },
      "outputs": [],
      "source": [
        "from tqdm.notebook import tqdm\n",
        "import torch\n",
        "import torch.nn as nn\n",
        "from torch.utils.data import Dataset\n",
        "from torchvision.io import read_image\n",
        "from torchvision import transforms\n",
        "import os\n",
        "import glob\n",
        "\n",
        "import matplotlib.pyplot as plt\n",
        "import numpy as np\n"
      ]
    },
    {
      "cell_type": "markdown",
      "metadata": {},
      "source": [
        "# 2. データローダの作成"
      ]
    },
    {
      "cell_type": "code",
      "execution_count": null,
      "metadata": {},
      "outputs": [],
      "source": [
        "class GANImageDataset(Dataset):\n",
        "    \"\"\"GAN用のImageDataset\n",
        "\n",
        "    Attributes:\n",
        "        filenames (list): 画像(PNG画像)のファイル名リスト\n",
        "        transform (obj): 画像変換用の関数\n",
        "    \"\"\"\n",
        "\n",
        "    def __init__(self, img_dir, transform=None):\n",
        "        \"\"\"\n",
        "        Args:\n",
        "            img_dir: 画像が置いてあるディレクトリ名\n",
        "            transform: 画像変換用の関数\n",
        "        \"\"\"\n",
        "        self.transform = transform\n",
        "        self.filenames = glob.glob(os.path.join(img_dir, \"*/*.png\"))\n",
        "        print(f\"{self.__len__()} images for training\")\n",
        "\n",
        "    def __len__(self):\n",
        "        return len(self.filenames)\n",
        "\n",
        "    def __getitem__(self, idx):\n",
        "        img_path = self.filenames[idx]\n",
        "        image = read_image(img_path)\n",
        "        if self.transform:\n",
        "            image = self.transform(image)\n",
        "        return image"
      ]
    },
    {
      "cell_type": "code",
      "execution_count": null,
      "metadata": {},
      "outputs": [],
      "source": [
        "class ImageTransform():\n",
        "    def __init__(self,  mean=[0.5, 0.5, 0.5], std=[0.5, 0.5, 0.5]):\n",
        "        self.data_transform = transforms.Compose([\n",
        "            transforms.ToPILImage(),\n",
        "            transforms.Resize(64),\n",
        "            transforms.CenterCrop(64),\n",
        "            transforms.ToTensor(),\n",
        "            transforms.Normalize(mean, std)\n",
        "        ])\n",
        "\n",
        "    def __call__(self, img):\n",
        "        return self.data_transform(img)"
      ]
    },
    {
      "cell_type": "code",
      "execution_count": null,
      "metadata": {},
      "outputs": [],
      "source": [
        "def tensor2image(image,  mean=[0.5, 0.5, 0.5], std=[0.5, 0.5, 0.5]):\n",
        "    \"\"\"\n",
        "    Args:\n",
        "        image: pytorch Tensor\n",
        "    \"\"\"\n",
        "    inp = image.numpy().transpose((1, 2, 0))\n",
        "    mean = np.array(mean)\n",
        "    std = np.array(std)\n",
        "    inp = std * inp + mean\n",
        "    inp = np.clip(inp, 0, 1)\n",
        "    return inp\n"
      ]
    },
    {
      "cell_type": "code",
      "execution_count": null,
      "metadata": {},
      "outputs": [],
      "source": [
        "def show_images(images, filename=None, ncols=8, mean=[0.5, 0.5, 0.5], std=[0.5, 0.5, 0.5]):\n",
        "    nImages = images.shape[0]\n",
        "    width = images.shape[3]\n",
        "    height = images.shape[2]\n",
        "    nrows = nImages // ncols\n",
        "\n",
        "    buf = np.zeros((ncols*height, nrows*width, 3))\n",
        "    idx = 0\n",
        "    for r in range(nrows):\n",
        "        for c in range(ncols):\n",
        "            if idx >= nImages:\n",
        "                continue\n",
        "            buf[c*height:(c+1)*height, r*width:(r+1)*width,\n",
        "                :] = tensor2image(images[idx], mean, std)\n",
        "            idx += 1\n",
        "\n",
        "    fig, ax = plt.subplots()\n",
        "    ax.imshow(buf)\n",
        "    if filename is None:\n",
        "        filename = \"out.png\"\n",
        "    fig.savefig(filename)\n",
        "    plt.close()"
      ]
    },
    {
      "cell_type": "markdown",
      "metadata": {},
      "source": [
        "# 3. モデルの作成"
      ]
    },
    {
      "cell_type": "code",
      "execution_count": null,
      "metadata": {},
      "outputs": [],
      "source": [
        "class Generator(nn.Module):\n",
        "    def __init__(self, z_dim=100):\n",
        "        super(Generator, self).__init__()\n",
        "\n",
        "        self.layer1 = nn.Sequential(\n",
        "            nn.utils.spectral_norm(nn.ConvTranspose2d(\n",
        "                z_dim, 1024, kernel_size=4, stride=1, padding=0)),\n",
        "            nn.BatchNorm2d(1024),\n",
        "            nn.ReLU(inplace=True)\n",
        "        )\n",
        "\n",
        "        self.layer2 = nn.Sequential(\n",
        "            nn.utils.spectral_norm(nn.ConvTranspose2d(\n",
        "                1024, 512, kernel_size=4, stride=2, padding=1)),\n",
        "            nn.BatchNorm2d(512),\n",
        "            nn.ReLU(inplace=True)\n",
        "        )\n",
        "\n",
        "        self.layer3 = nn.Sequential(\n",
        "            nn.utils.spectral_norm(nn.ConvTranspose2d(\n",
        "                512, 256, kernel_size=4, stride=2, padding=1)),\n",
        "            nn.BatchNorm2d(256),\n",
        "            nn.ReLU(inplace=True)\n",
        "        )\n",
        "\n",
        "        self.layer4 = nn.Sequential(\n",
        "            nn.utils.spectral_norm(nn.ConvTranspose2d(\n",
        "                256, 128, kernel_size=4, stride=2, padding=1)),\n",
        "            nn.BatchNorm2d(128),\n",
        "            nn.ReLU(inplace=True)\n",
        "        )\n",
        "\n",
        "        self.last = nn.Sequential(\n",
        "            nn.utils.spectral_norm(nn.ConvTranspose2d(\n",
        "                128, 64, kernel_size=4, stride=2, padding=1)),\n",
        "            nn.BatchNorm2d(64),\n",
        "            nn.ReLU(inplace=True),\n",
        "            nn.utils.spectral_norm(nn.Conv2d(64, 3, kernel_size=3, padding=1)),\n",
        "            nn.Tanh()\n",
        "        )\n",
        "\n",
        "    def forward(self, z):\n",
        "        out = self.layer1(z)\n",
        "        out = self.layer2(out)\n",
        "        out = self.layer3(out)\n",
        "        out = self.layer4(out)\n",
        "        out = self.last(out)\n",
        "        return out"
      ]
    },
    {
      "cell_type": "code",
      "execution_count": null,
      "metadata": {},
      "outputs": [],
      "source": [
        "class Discriminator(nn.Module):\n",
        "    def __init__(self):\n",
        "        super(Discriminator, self).__init__()\n",
        "\n",
        "        self.layer1 = nn.Sequential(\n",
        "            nn.utils.spectral_norm(\n",
        "                nn.Conv2d(3, 32, kernel_size=3, padding=1, stride=2)),\n",
        "            nn.LeakyReLU(0.1, inplace=True)\n",
        "        )\n",
        "\n",
        "        self.layer2 = nn.Sequential(\n",
        "            nn.utils.spectral_norm(\n",
        "                nn.Conv2d(32, 64, kernel_size=3, padding=1, stride=2)),\n",
        "            nn.LeakyReLU(0.1, inplace=True)\n",
        "        )\n",
        "\n",
        "        self.layer3 = nn.Sequential(\n",
        "            nn.utils.spectral_norm(\n",
        "                nn.Conv2d(64, 128, kernel_size=3, padding=1, stride=2)),\n",
        "            nn.LeakyReLU(0.1, inplace=True)\n",
        "        )\n",
        "\n",
        "        self.layer4 = nn.Sequential(\n",
        "            nn.utils.spectral_norm(\n",
        "                nn.Conv2d(128, 256, kernel_size=3, padding=1, stride=2)),\n",
        "            nn.LeakyReLU(0.1, inplace=True)\n",
        "        )\n",
        "\n",
        "        self.last = nn.Conv2d(256, 1, kernel_size=3, stride=2)\n",
        "\n",
        "    def forward(self, x):\n",
        "        out = self.layer1(x)\n",
        "        out = self.layer2(out)\n",
        "        out = self.layer3(out)\n",
        "        out = self.layer4(out)\n",
        "        out = self.last(out)\n",
        "\n",
        "        return out"
      ]
    },
    {
      "cell_type": "markdown",
      "metadata": {},
      "source": [
        "# 4. 訓練"
      ]
    },
    {
      "cell_type": "code",
      "execution_count": null,
      "metadata": {},
      "outputs": [],
      "source": [
        "class Train_model:\n",
        "    def __init__(self, device):\n",
        "        self.device = device\n",
        "\n",
        "    def initialize(self, G, D, z_dim, setting):\n",
        "        self.D = D\n",
        "        self.G = G\n",
        "        self.z_dim = z_dim\n",
        "        g_lr = setting[\"g_lr\"]\n",
        "        d_lr = setting[\"d_lr\"]\n",
        "        beta1 = setting[\"beta1\"]\n",
        "        beta2 = setting[\"beta2\"]\n",
        "        self.g_optimizer = torch.optim.Adam(self.G.parameters(), g_lr, [beta1, beta2])\n",
        "        self.d_optimizer = torch.optim.Adam(self.D.parameters(), d_lr, [beta1, beta2])\n",
        "        # self.g_optimizer = torch.optim.SGD(self.G.parameters(), g_lr)\n",
        "        # self.d_optimizer = torch.optim.SGD(self.D.parameters(), d_lr)\n",
        "\n",
        "        self.D.to(self.device)\n",
        "        self.G.to(self.device)\n",
        "\n",
        "        torch.backends.cudnn.benchmark = True\n",
        "\n",
        "        self.criterion = nn.BCEWithLogitsLoss(reduction=\"mean\")\n",
        "\n",
        "    def generate(self,batch_size):\n",
        "        with torch.no_grad():\n",
        "          input_z = torch.randn(batch_size, self.z_dim, 1, 1).to(self.device)\n",
        "          fake_images = self.G(input_z)      \n",
        "        return fake_images\n",
        "\n",
        "    def init_unroll_GAN(self, batch_size):\n",
        "        self.nRoll = 10\n",
        "        self.nBuffer = 11\n",
        "        self.old_fake_images = [self.generate(batch_size) for i in range(self.nBuffer)]\n",
        "        self.current_idx = 0\n",
        "\n",
        "    def train(self, dataloader, num_epochs):\n",
        "        num_images = len(dataloader.dataset)\n",
        "        self.batch_size = dataloader.batch_size\n",
        "        z = torch.randn(self.batch_size, self.z_dim, 1, 1).to(self.device)\n",
        "\n",
        "        pbar_epoch = tqdm(total=num_epochs)\n",
        "        pbar_epoch.set_description(\"epoch\")\n",
        "        self.G.train()\n",
        "        self.D.train()\n",
        "        self.init_unroll_GAN(self.batch_size)\n",
        "\n",
        "        for epoch in range(num_epochs):\n",
        "            epoch_d_loss = 0\n",
        "            epoch_g_loss = 0\n",
        "            self.G.train()\n",
        "            self.D.train()\n",
        "            pbar_batch = tqdm(total=num_images, leave=False)\n",
        "            for i, images in enumerate(dataloader):\n",
        "                _batch_size = images.size()[0]\n",
        "                epoch_d_loss += self.train_D(images, _batch_size)\n",
        "                epoch_g_loss += self.train_G(_batch_size)\n",
        "                pbar_batch.set_postfix(\n",
        "                    {\"dLoss\": epoch_d_loss / (i + 1), \"gLoss\": epoch_g_loss / (i + 1)}\n",
        "                )\n",
        "                pbar_batch.update(_batch_size)\n",
        "            pbar_epoch.set_postfix(\n",
        "                {\"dLoss\": epoch_d_loss / (i + 1), \"gLoss\": epoch_g_loss / (i + 1)}\n",
        "            )\n",
        "            pbar_epoch.update()\n",
        "\n",
        "            sample, pred = self.generate_fake_images(z)\n",
        "            show_images(sample)\n",
        "            if epoch % 10 == 0:\n",
        "                show_images(sample, f\"out{epoch:04d}.png\")\n",
        "\n",
        "    def train_D(self, images, batch_size):\n",
        "        if batch_size != self.batch_size:\n",
        "            return 0\n",
        "        self.D.zero_grad()\n",
        "\n",
        "        images = images.to(self.device)\n",
        "        label_real = torch.full((batch_size,), 0.0).to(self.device)\n",
        "        label_fake = torch.full((batch_size,), 1.0).to(self.device)\n",
        "\n",
        "        d_out_real = self.D(images)\n",
        "        \n",
        "        #fake_images = self.generate(batch_size)\n",
        "        fake_images = self.old_fake_images[self.current_idx]\n",
        "        d_out_fake = self.D(fake_images)\n",
        "\n",
        "        d_loss_real = self.criterion(d_out_real.view(-1), label_real)\n",
        "        d_loss_fake = self.criterion(d_out_fake.view(-1), label_fake)\n",
        "        d_loss = d_loss_real + d_loss_fake\n",
        "\n",
        "        d_loss.backward()\n",
        "        self.d_optimizer.step()\n",
        "\n",
        "        return d_loss.item()\n",
        "\n",
        "    def train_G(self, batch_size):\n",
        "        if batch_size != self.batch_size:\n",
        "            return 0\n",
        "        self.G.zero_grad()\n",
        "\n",
        "        label_real = torch.full((batch_size,), 0.0).to(self.device)\n",
        "\n",
        "        \n",
        "        self.old_fake_images[(self.current_idx + self.nRoll) % self.nBuffer] = self.generate(batch_size)\n",
        "        self.current_idx = (self.current_idx + 1) % self.nBuffer\n",
        "\n",
        "        input_z = torch.randn(batch_size, self.z_dim, 1, 1).to(self.device)\n",
        "        fake_images = self.G(input_z)   \n",
        "        d_out_fake = self.D(fake_images)\n",
        "\n",
        "        g_loss = self.criterion(d_out_fake.view(-1), label_real)\n",
        "\n",
        "        g_loss.backward()\n",
        "        self.g_optimizer.step()\n",
        "\n",
        "        return g_loss.item()\n",
        "\n",
        "    def generate_fake_images(self, z):\n",
        "        self.D.eval()\n",
        "        self.G.eval()\n",
        "\n",
        "        fake_images = self.G(z)\n",
        "        d_out = self.D(fake_images).view(-1).to(\"cpu\").detach().numpy()\n",
        "        fake_images = fake_images.to(\"cpu\").detach()\n",
        "        return fake_images, d_out"
      ]
    },
    {
      "cell_type": "markdown",
      "metadata": {
        "id": "RzgkgbGrSgfm"
      },
      "source": [
        "# 5. 学習はこちら\n",
        "データの場所とか、エポック数とか学習率とかはここで指定してください。"
      ]
    },
    {
      "cell_type": "code",
      "execution_count": null,
      "metadata": {
        "id": "nhH5iNXhRngn"
      },
      "outputs": [],
      "source": [
        "batch_size = 64\n",
        "z_dim = 100\n",
        "setting = {\"g_lr\": 1.0e-4, \"d_lr\": 5.0e-4, \"beta1\": 0.5, \"beta2\": 0.999}\n",
        "\n",
        "device = \"cuda:0\" if torch.cuda.is_available() else \"cpu\"\n",
        "print (device)\n",
        "\n",
        "datadir = \"/content/drive/MyDrive/iiyama-lab2022/data/face/train\"\n",
        "#datadir = \"/root/data/share/face/train\"\n",
        "dataset = GANImageDataset(datadir, transform=ImageTransform())\n",
        "dataloader = torch.utils.data.DataLoader(\n",
        "dataset, batch_size=batch_size, shuffle=True, num_workers=2)\n",
        "\n",
        "G = Generator(z_dim=z_dim)\n",
        "D = Discriminator()\n",
        "\n",
        "trainer = Train_model(device)\n",
        "trainer.initialize(G, D, z_dim, setting)\n",
        "trainer.train(dataloader, num_epochs=200)"
      ]
    }
  ],
  "metadata": {
    "accelerator": "GPU",
    "colab": {
      "authorship_tag": "ABX9TyOHuipAnCQ/zMcZXyduYN8N",
      "collapsed_sections": [],
      "include_colab_link": true,
      "mount_file_id": "1M3zKPkA9h2wa-nB5jrgH0FWBHCq1DcUX",
      "name": "20220531.ipynb",
      "provenance": []
    },
    "interpreter": {
      "hash": "266e07f64aa3f1afd9991a0b824d04fa241a0ccb3b0a1eb69e96cbe416527717"
    },
    "kernelspec": {
      "display_name": "myenv",
      "language": "python",
      "name": "myenv"
    },
    "language_info": {
      "codemirror_mode": {
        "name": "ipython",
        "version": 3
      },
      "file_extension": ".py",
      "mimetype": "text/x-python",
      "name": "python",
      "nbconvert_exporter": "python",
      "pygments_lexer": "ipython3",
      "version": "3.9.7"
    }
  },
  "nbformat": 4,
  "nbformat_minor": 0
}
